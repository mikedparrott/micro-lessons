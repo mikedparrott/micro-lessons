{
  "nbformat": 4,
  "nbformat_minor": 0,
  "metadata": {
    "colab": {
      "name": "Connect to AWS Database Using R.ipynb",
      "version": "0.3.2",
      "provenance": [],
      "collapsed_sections": [],
      "include_colab_link": true
    },
    "language_info": {
      "codemirror_mode": "r",
      "file_extension": ".r",
      "mimetype": "text/x-r-source",
      "name": "R",
      "pygments_lexer": "r",
      "version": "3.3.1"
    },
    "kernelspec": {
      "display_name": "R",
      "language": "R",
      "name": "ir"
    }
  },
  "cells": [
    {
      "cell_type": "markdown",
      "metadata": {
        "id": "view-in-github",
        "colab_type": "text"
      },
      "source": [
        "<a href=\"https://colab.research.google.com/github/mikedparrott/micro-lessons/blob/master/Connect_to_AWS_Database_Using_R.ipynb\" target=\"_parent\"><img src=\"https://colab.research.google.com/assets/colab-badge.svg\" alt=\"Open In Colab\"/></a>"
      ]
    },
    {
      "cell_type": "markdown",
      "metadata": {
        "id": "fcTpmzf25WS6",
        "colab_type": "text"
      },
      "source": [
        "# Micro Course:\n",
        "##**Create an SQL Database & Connect to it with R**\n",
        "\n",
        "Use the following notebooks to build an SQL database on AWS and connect to it with R. See the [micro lessons github repo](https://github.com/mikedparrott/micro-lessons) for other useful micro lessons.\n",
        "- [Create an SQL Database on Amazon Web Services](https://github.com/mikedparrott/micro-lessons/blob/master/Create_an_SQL_Database_on_Amazon_Web_Services.ipynb)\n",
        "- [Connect to AWS Database Using R](https://github.com/mikedparrott/micro-lessons/blob/master/Connect_to_AWS_Database_Using_R.ipynb)\n",
        "- [Delete AWS Database](https://github.com/mikedparrott/micro-lessons/blob/master/Delete_your_SQL_Database_from_Amazon_Web_Services.ipynb)\n",
        "\n",
        "\n",
        "---"
      ]
    },
    {
      "cell_type": "markdown",
      "metadata": {
        "id": "VpMC1lpX5eam",
        "colab_type": "text"
      },
      "source": [
        "## Micro Lesson II. Connect to AWS Database Using R"
      ]
    },
    {
      "cell_type": "markdown",
      "metadata": {
        "colab_type": "text",
        "id": "OHQwGHNL6_cl"
      },
      "source": [
        "###1.   We will rely on the dplyr and dbplyr packages to connect to our database. \n",
        "First, install and then load the dplyr and dbplyr packages \n",
        "\n",
        "**Code:**"
      ]
    },
    {
      "cell_type": "code",
      "metadata": {
        "id": "Msxj9dbsHVSW",
        "colab_type": "code",
        "colab": {}
      },
      "source": [
        "\n",
        "# First install the dplyr and dbplyr libraries (if needed).\n",
        "\n",
        "# Load the dplyr and dbplyr libraries.\n",
        "library(dplyr)\n",
        "library(dbplyr)\n"
      ],
      "execution_count": 0,
      "outputs": []
    },
    {
      "cell_type": "markdown",
      "metadata": {
        "colab_type": "text",
        "id": "olkIXoQk6_wz"
      },
      "source": [
        "###2.   Load your database endpoint, port, username, and password into R objects.\n",
        "Here we are setting up the data for different arguments in the dbplyr function we will use to connect to our RDS database.\n",
        "\n",
        "**Code:**\n"
      ]
    },
    {
      "cell_type": "code",
      "metadata": {
        "colab_type": "code",
        "id": "OhU2CrH66_wm",
        "colab": {}
      },
      "source": [
        "# Input your RDS endpoint, database name, and database password\n",
        "\n",
        "host=\"endpoint listed in RDS\"\n",
        "port=3306\n",
        "dbname=\"your_database_name\"\n",
        "user=\"your_username\"\n",
        "password=\"your_password\"\n"
      ],
      "execution_count": 0,
      "outputs": []
    },
    {
      "cell_type": "markdown",
      "metadata": {
        "colab_type": "text",
        "id": "ALUYLAkE7Jt_"
      },
      "source": [
        "###3.   Connect to your MySQL database using the src_mysql() function from the dbplyr package.\n",
        "The dbplyr package has several functoins to connect to different types of SQL driven relational databases.  We use src_mysql to connect to our MySQL database.\n",
        "\n",
        "**Code:**\n",
        "\n"
      ]
    },
    {
      "cell_type": "code",
      "metadata": {
        "colab_type": "code",
        "id": "Pb9rwvDr7JuC",
        "colab": {}
      },
      "source": [
        "# Connect to database.\n",
        "my_db=src_mysql(dbname=dbname,host=host,port=port,user=user,password=password)\n",
        "\n",
        "#see ?src_mysql for other types of database connections\n",
        "\n"
      ],
      "execution_count": 0,
      "outputs": []
    },
    {
      "cell_type": "markdown",
      "metadata": {
        "colab_type": "text",
        "id": "nqIa3rnk7WFv"
      },
      "source": [
        "###4.   Load a table into your database.\n",
        "You can copy an R data frame to your AWS database using the following code.  \n",
        "\n",
        "**Code:**\n",
        "\n"
      ]
    },
    {
      "cell_type": "code",
      "metadata": {
        "colab_type": "code",
        "id": "lxJBfho57WFy",
        "colab": {}
      },
      "source": [
        "#Adding example mtcars dataset to database. \n",
        "\n",
        "# Look at first six observations of mtcars data\n",
        "head(mtcars)\n",
        "\n",
        "# Copy mtcars data to a table in your database\n",
        "copy_to(my_db,mtcars,temporary = FALSE) # Use overwrite=TRUE to replace an existing table\n",
        "\n",
        "#Now, let's use the src_tbls() function check if the table has been transferred.\n",
        "\n",
        "src_tbls(my_db)\n",
        "\n",
        "\n",
        "\n"
      ],
      "execution_count": 0,
      "outputs": []
    },
    {
      "cell_type": "markdown",
      "metadata": {
        "colab_type": "text",
        "id": "XOCAmKYb7kP4"
      },
      "source": [
        "###5.   Interact with your MySQL database table in the cloud using dbplyr and dplyr.\n",
        "We have transfered the data. Now, we can query agaist the database. To connect to a table, we use the tbl function. We use the same dplyr verbs that\n",
        "we use for typical data manipulation to work with databases .  The dbplyr library translates the R code we write using dplyr verbs to SQL code.\n",
        "\n",
        "**Code:**\n",
        "\n"
      ]
    },
    {
      "cell_type": "code",
      "metadata": {
        "colab_type": "code",
        "id": "XtbfGdl_7kP6",
        "colab": {}
      },
      "source": [
        "# Connect to table in database for queries\n",
        "\n",
        "mtcars_db = tbl(my_db,\"mtcars\")\n",
        "class(mtcars_db)\n",
        " \n",
        "head(mtcars_db) #Notice the source/ Database connection.  We are interacting with data on RDS.  \n",
        "\n",
        "\n",
        "#Query RDS database using dplyr within r\n",
        "filter(mtcars_db, cyl == 8, qsec > 16) \n",
        "\n",
        "# Notice that these are lazy queries.  To actually return the data from your query from RDS run collect() after assigning your query to a new object\n",
        "\n",
        "#Need to run collect() function to return data from query into your R session\n",
        "\n",
        "finaldata<-collect(filter(mtcars_db, cyl == 8, qsec > 16)) \n",
        "\n",
        "# Another query example that returns data into R session\n",
        "\n",
        "finaldata<-collect(select(mtcars_db, mpg, wt)) \n",
        "\n",
        "\n",
        "\n",
        "\n"
      ],
      "execution_count": 0,
      "outputs": []
    },
    {
      "cell_type": "markdown",
      "metadata": {
        "colab_type": "text",
        "id": "2tMv0-u08Qth"
      },
      "source": [
        "###6.   Have a look at the SQL that dbplyr is using to generate your queries\n",
        "Dbplyr takes dplyr code and translates it into SQL queries.  We can print out the raw SQL code using show_query()\n",
        "\n",
        "**Code:**\n",
        "\n"
      ]
    },
    {
      "cell_type": "code",
      "metadata": {
        "colab_type": "code",
        "id": "ktoSPxYA8Qtk",
        "colab": {}
      },
      "source": [
        "# Print dbplyr's translation of dplyr data manipulation to raw SQL code\n",
        "\n",
        "show_query(filter(mtcars_db, cyl == 8, qsec > 16) ) \n",
        "\n",
        "\n",
        "\n",
        "\n",
        "\n",
        "\n",
        "\n"
      ],
      "execution_count": 0,
      "outputs": []
    },
    {
      "cell_type": "markdown",
      "metadata": {
        "colab_type": "text",
        "id": "yYMm_nAo8q2M"
      },
      "source": [
        "###7.   Or simply connect directly to your database and send your own SQL queries.\n",
        "\n",
        "**Code:**\n",
        "\n"
      ]
    },
    {
      "cell_type": "code",
      "metadata": {
        "colab_type": "code",
        "id": "8y9gXdFA8q2N",
        "colab": {}
      },
      "source": [
        "#You can also connect using DBI and send raw sql\n",
        "\n",
        "library(DBI)\n",
        "library(RMySQL)\n",
        "\n",
        "# Using the same database information we set up in step one above\n",
        "conn <- dbConnect(\n",
        "  drv = RMySQL::MySQL(),\n",
        "  dbname=dbname,host=host,port=port,user=user,password=password)\n",
        "\n",
        "dbGetQuery(conn, \"SELECT * FROM mtcars LIMIT 5;\")\n",
        "\n",
        "\n",
        "\n",
        "\n",
        "\n",
        "\n"
      ],
      "execution_count": 0,
      "outputs": []
    }
  ]
}