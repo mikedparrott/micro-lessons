{
  "nbformat": 4,
  "nbformat_minor": 0,
  "metadata": {
    "colab": {
      "name": "Connect to AWS Database Using R.ipynb",
      "version": "0.3.2",
      "provenance": [],
      "include_colab_link": true
    },
    "kernelspec": {
      "name": "python3",
      "display_name": "Python 3"
    }
  },
  "cells": [
    {
      "cell_type": "markdown",
      "metadata": {
        "id": "view-in-github",
        "colab_type": "text"
      },
      "source": [
        "<a href=\"https://colab.research.google.com/github/mikedparrott/micro-lessons/blob/master/Connect_to_AWS_Database_Using_R.ipynb\" target=\"_parent\"><img src=\"https://colab.research.google.com/assets/colab-badge.svg\" alt=\"Open In Colab\"/></a>"
      ]
    },
    {
      "cell_type": "markdown",
      "metadata": {
        "id": "fcTpmzf25WS6",
        "colab_type": "text"
      },
      "source": [
        "# Micro Course:\n",
        "##**Create an SQL Database & Connect to it with R or Python**\n",
        "\n",
        "Use the following notebooks to build an SQL database on AWS and connect to it with R or Python. See the [micro lessons github repo](https://github.com/mikedparrott/micro-lessons) for other useful micro lessons.\n",
        "- [Create an SQL Database on Amazon Web Services](https://github.com/mikedparrott/micro-lessons/blob/master/Create_an_SQL_Database_on_Amazon_Web_Services.ipynb)\n",
        "- [Connect to AWS Database Using R](/notebooks/mlcc/first_steps_with_tensor_flow.ipynb)\n",
        "- [Connect to AWS Database Using Python](/notebooks/mlcc/intro_to_neural_nets.ipynb)\n",
        "- [Delete AWS Database](/notebooks/mlcc/intro_to_sparse_data_and_embeddings.ipynb)\n",
        "\n",
        "\n",
        "---"
      ]
    },
    {
      "cell_type": "markdown",
      "metadata": {
        "id": "VpMC1lpX5eam",
        "colab_type": "text"
      },
      "source": [
        "## Micro Lesson II. Connect to AWS Database Using R"
      ]
    },
    {
      "cell_type": "markdown",
      "metadata": {
        "id": "yY1tHH_w5lKw",
        "colab_type": "text"
      },
      "source": [
        "###**1.   Sign up for an Amazon Web Services (AWS) account [here](https://aws.amazon.com/) if you do not have an account.**\n",
        "\n",
        "###**2.   Sign in to your AWS account.  Then click the services tab, search for \"RDS\", click the \"RDS\" link to open Amazon's Relational Database Service** \n",
        "\n",
        ">(See example GIF below):\n",
        "\n",
        "\n",
        "![](https://raw.githubusercontent.com/mikedparrott/micro-lessons/master/images/navmysql.png)"
      ]
    }
  ]
}