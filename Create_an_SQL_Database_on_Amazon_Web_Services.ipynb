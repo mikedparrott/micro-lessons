{
  "nbformat": 4,
  "nbformat_minor": 0,
  "metadata": {
    "colab": {
      "name": "Create an SQL Database on Amazon Web Services.ipynb",
      "version": "0.3.2",
      "provenance": [],
      "collapsed_sections": [],
      "toc_visible": true,
      "include_colab_link": true
    },
    "kernelspec": {
      "name": "python3",
      "display_name": "Python 3"
    },
    "accelerator": "GPU"
  },
  "cells": [
    {
      "cell_type": "markdown",
      "metadata": {
        "id": "view-in-github",
        "colab_type": "text"
      },
      "source": [
        "<a href=\"https://colab.research.google.com/github/mikedparrott/micro-lessons/blob/master/Create_an_SQL_Database_on_Amazon_Web_Services.ipynb\" target=\"_parent\"><img src=\"https://colab.research.google.com/assets/colab-badge.svg\" alt=\"Open In Colab\"/></a>"
      ]
    },
    {
      "cell_type": "markdown",
      "metadata": {
        "id": "hI0jsAdOoJiE",
        "colab_type": "text"
      },
      "source": [
        "# Micro Course:\n",
        "##**Create an SQL Database & Connect to it with R or Python**\n",
        "\n",
        "Use the following notebooks to build an SQL database on AWS and connect to it with R or Python. See the [micro lessons github repo](https://github.com/mikedparrott/micro-lessons) for other useful micro lessons.\n",
        "- [Create an SQL Database on Amazon Web Services](https://github.com/mikedparrott/micro-lessons/blob/master/Create_an_SQL_Database_on_Amazon_Web_Services.ipynb)\n",
        "- [Connect to AWS Database Using R](/notebooks/mlcc/first_steps_with_tensor_flow.ipynb)\n",
        "- [Connect to AWS Database Using Python](/notebooks/mlcc/intro_to_neural_nets.ipynb)\n",
        "- [Delete AWS Database](/notebooks/mlcc/intro_to_sparse_data_and_embeddings.ipynb)\n",
        "\n",
        "\n",
        "---\n",
        "\n"
      ]
    },
    {
      "cell_type": "markdown",
      "metadata": {
        "id": "DFAk7ZxmiCuw",
        "colab_type": "text"
      },
      "source": [
        "##Micro Lesson I. Create an SQL Database on Amazon Web Services"
      ]
    },
    {
      "cell_type": "markdown",
      "metadata": {
        "id": "v0TJYnDYLvQr",
        "colab_type": "text"
      },
      "source": [
        "###**1.   Sign up for an Amazon Web Services (AWS) account [here](https://aws.amazon.com/) if you do not have an account.**\n",
        "\n",
        "###**2.   Sign in to your AWS account.  Then click the services tab, search for \"RDS\", click the \"RDS\" link to open Amazon's Relational Database Service** \n",
        "\n",
        ">(See example GIF below):\n",
        "\n",
        "\n",
        "![](https://raw.githubusercontent.com/mikedparrott/micro-lessons/master/images/navmysql.png)\n",
        "\n",
        "\n",
        "\n"
      ]
    },
    {
      "cell_type": "markdown",
      "metadata": {
        "id": "AVABWrTtv7AP",
        "colab_type": "text"
      },
      "source": [
        "\n",
        "\n",
        "\n",
        "\n",
        "##**3.   We will create a \"free tier\" MySQL database.  SQL (Structured Query Language) comes in many forms.  MySQL is still the most used version of SQL.**   \n",
        "\n",
        "(See example GIF of each of the following steps below):\n",
        "\n",
        "> A. **Click the \"Create Database\" button**\n",
        "\n",
        "> B. **Select the \"free tier\" check box and click \"MySQL\" option**\n",
        "\n",
        "> C. **Click the Next button**\n",
        "\n",
        "![](https://raw.githubusercontent.com/mikedparrott/micro-lessons/master/images/navmysql_createmysql.png)\n",
        "\n",
        "\n"
      ]
    },
    {
      "cell_type": "markdown",
      "metadata": {
        "colab_type": "text",
        "id": "Se-_CyY24iaI"
      },
      "source": [
        "\n",
        "\n",
        "\n",
        "\n",
        " ### **4.   Set up your database**   \n",
        " \n",
        " (See example GIF of each of the following steps below):\n",
        "\n",
        "\n",
        "> A. **Create your database instance identifier** \n",
        "\n",
        ">>(Note: This unique identifier is used within the endpoint url that you will use to connect to your database.).\n",
        "\n",
        "> B. **Create a master username and password to use to connect to the database** \n",
        "\n",
        ">>(Example username = \"myusername1\".  Example password = \"mypassword\".)\n",
        "\n",
        "> C. **Click the Next button**\n",
        "\n",
        "\n",
        "![](https://raw.githubusercontent.com/mikedparrott/micro-lessons/master/images/navmysql_configuremysql.png)\n",
        "\n",
        "\n",
        "\n"
      ]
    },
    {
      "cell_type": "markdown",
      "metadata": {
        "colab_type": "text",
        "id": "wiXVt0RMAH28"
      },
      "source": [
        "\n",
        " ### **5.   Name your database and configure access options**   \n",
        " \n",
        " (See example GIF of each of the following steps below):\n",
        "\n",
        "\n",
        "> A. **Under \"Public Accessibility\" select the \"Yes\" option** \n",
        "\n",
        ">>(Note.- Allows your database to be accessed by users in different AWS regions).\n",
        "\n",
        "> B. **Under \"VPC security groups\" select the \"Create new VPC security group\" option**\n",
        "\n",
        ">>(Note.- Sets up secure access to your database).\n",
        "\n",
        "> C. **Under \"Database options > Database name\" insert a name for your database** \n",
        "\n",
        ">>(i.e.- Give the database that will house your data tables a unique name).\n",
        "\n",
        "> D. **Click the Next button**\n",
        "\n",
        ">>(Your database is now being launched! It takes a few minutes, but you are almost ready to connect to your database!)\n",
        "\n",
        "\n",
        "![](https://raw.githubusercontent.com/mikedparrott/micro-lessons/master/images/navmysql_launchdb.png)\n",
        "\n"
      ]
    },
    {
      "cell_type": "markdown",
      "metadata": {
        "colab_type": "text",
        "id": "VWbNasydI4Kl"
      },
      "source": [
        "\n",
        " ### **6.   Find the endpoint for your newly launched database** (used along with your database name and password to connect to the database)\n",
        " \n",
        " >>(See example GIF of each of the following steps below):\n",
        "\n",
        "\n",
        "> A. **Click “Databases” link on the RDS sidemenu, then click the name of your database in the returned results**\n",
        "\n",
        ">>(Note.- The endpoint is a url that will appear after your database is created. When you see the label \"Launched\" next to the status of your database your endpoint will also be created.).\n",
        "\n",
        "> B. **The endpoint url will be located under the \"Connectivity and Security tab\" under the sub-header \"Endpoint & port\"**\n",
        "\n",
        ">>(Example endpoint url- \"mydatabase1.abcdefg123.us-east-1.rds.amazonaws.com\")\n",
        "\n",
        "> C. **That's it!  Once you have your endpoint, your database name, and database password you can use these datapoints to connect to a live SQL database in the cloud.**\n",
        "\n",
        ">>(See lesson 2 and lesson 3 below to learn how to connect to your database using R or Python.)\n",
        "\n",
        "\n",
        "\n",
        "![](https://raw.githubusercontent.com/mikedparrott/micro-lessons/master/images/navmysql_findendpoint.png)\n",
        "\n"
      ]
    },
    {
      "cell_type": "markdown",
      "metadata": {
        "id": "NL_tMBe3Zlb9",
        "colab_type": "text"
      },
      "source": [
        "\n",
        "\n",
        "\n",
        "\n",
        "\n",
        "\n",
        "\n",
        "\n",
        "---\n",
        "\n",
        "\n",
        "---\n",
        "\n",
        "\n",
        "\n",
        "\n",
        "\n"
      ]
    },
    {
      "cell_type": "markdown",
      "metadata": {
        "id": "O1V_vVPrnvQ3",
        "colab_type": "text"
      },
      "source": [
        "<a  href=\"section2\"></a>"
      ]
    }
  ]
}