{
  "nbformat": 4,
  "nbformat_minor": 0,
  "metadata": {
    "colab": {
      "name": "Delete your SQL Database from Amazon Web Services.ipynb",
      "version": "0.3.2",
      "provenance": [],
      "collapsed_sections": [],
      "include_colab_link": true
    },
    "kernelspec": {
      "name": "python3",
      "display_name": "Python 3"
    }
  },
  "cells": [
    {
      "cell_type": "markdown",
      "metadata": {
        "id": "view-in-github",
        "colab_type": "text"
      },
      "source": [
        "<a href=\"https://colab.research.google.com/github/mikedparrott/micro-lessons/blob/master/Delete_your_SQL_Database_from_Amazon_Web_Services.ipynb\" target=\"_parent\"><img src=\"https://colab.research.google.com/assets/colab-badge.svg\" alt=\"Open In Colab\"/></a>"
      ]
    },
    {
      "cell_type": "markdown",
      "metadata": {
        "id": "CYjwDe2eK75y",
        "colab_type": "text"
      },
      "source": [
        "# Micro Course:\n",
        "##**Create an SQL Database & Connect to it with R**\n",
        "\n",
        "Use the following notebooks to build an SQL database on AWS and connect to it with R. See the [micro lessons github repo](https://github.com/mikedparrott/micro-lessons) for other useful micro lessons.\n",
        "- [Create an SQL Database on Amazon Web Services](https://github.com/mikedparrott/micro-lessons/blob/master/Create_an_SQL_Database_on_Amazon_Web_Services.ipynb)\n",
        "- [Connect to AWS Database Using R](https://github.com/mikedparrott/micro-lessons/blob/master/Connect_to_AWS_Database_Using_R.ipynb)\n",
        "- [Delete AWS Database](https://github.com/mikedparrott/micro-lessons/blob/master/Delete_your_SQL_Database_from_Amazon_Web_Services.ipynb)"
      ]
    },
    {
      "cell_type": "markdown",
      "metadata": {
        "id": "wUazItfQLGwT",
        "colab_type": "text"
      },
      "source": [
        "##Micro Lesson III. Delete your SQL Database from Amazon Web Services"
      ]
    },
    {
      "cell_type": "markdown",
      "metadata": {
        "id": "-agcyzHRLdgf",
        "colab_type": "text"
      },
      "source": [
        ">(See example GIF below for demonstration of next step):\n",
        "\n",
        "\n",
        "###1.  Sign in to your AWS account.  Then click the services tab, search for \"RDS\", click the \"RDS\" link to open Amazon's Relational Database Service** \n",
        "![](https://raw.githubusercontent.com/mikedparrott/micro-lessons/master/images/navmysql.png)\n",
        "\n",
        "\n",
        ">(See example GIF below for demonstration of next steps):\n",
        "\n",
        "###2.  Click “Databases” link on the RDS dashboard sidemenu, then click the radio button next to the name of your database in the returned results.\n",
        "\n",
        "###3.  Click the \"Modify\" button.\n",
        "\n",
        "###4. Scroll to the bottom of the modify page until you see the \"Deletion protection\" section, deselect the option \"Enable deletion protection\", and click \"Continue\"\n",
        "\n",
        "![](https://raw.githubusercontent.com/mikedparrott/micro-lessons/master/images/navmysql_delete2.png)\n",
        "\n",
        "\n",
        "###5. The next screen is the \"Summary of modifications\".  Select \"apply immediately\" to delete database as soon as possible.  Then click \"Modify DB Instance\".\n",
        "\n",
        "\n",
        "\n",
        ">(See example GIF below for demonstration of next step):\n",
        "\n",
        "###6. Navigate back to the \"Databases\" page.  Select actions >> delete database. Choose not to save a backup of instance. Then follow deletion the remaining prompts to delete your database.\n",
        "\n",
        "\n",
        "![](https://raw.githubusercontent.com/mikedparrott/micro-lessons/master/images/navmysql_delete3.png)\n"
      ]
    }
  ]
}